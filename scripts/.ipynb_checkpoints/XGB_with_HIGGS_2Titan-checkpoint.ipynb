{
 "cells": [
  {
   "cell_type": "code",
   "execution_count": 1,
   "id": "4c5ea7d0-92b8-4f46-8130-ca79847dfb6c",
   "metadata": {},
   "outputs": [],
   "source": [
    "%load_ext watermark"
   ]
  },
  {
   "cell_type": "code",
   "execution_count": 2,
   "id": "7686d678-88d6-4f3e-803a-2e3e1b6cb0d5",
   "metadata": {},
   "outputs": [
    {
     "name": "stdout",
     "output_type": "stream",
     "text": [
      "Last updated: 2023-05-31T11:02:36.724085-04:00\n",
      "\n",
      "Python implementation: CPython\n",
      "Python version       : 3.8.10\n",
      "IPython version      : 7.28.0\n",
      "\n",
      "Compiler    : GCC 9.3.0\n",
      "OS          : Linux\n",
      "Release     : 5.11.0-37-generic\n",
      "Machine     : x86_64\n",
      "Processor   : x86_64\n",
      "CPU cores   : 32\n",
      "Architecture: 64bit\n",
      "\n"
     ]
    }
   ],
   "source": [
    "%watermark"
   ]
  },
  {
   "cell_type": "code",
   "execution_count": 3,
   "id": "829dda53-6e41-4917-adc1-09e83bad2de9",
   "metadata": {},
   "outputs": [
    {
     "name": "stdout",
     "output_type": "stream",
     "text": [
      "GPU Info: \n",
      "  GPU 0: NVIDIA TITAN RTX\n",
      "  GPU 1: NVIDIA TITAN RTX\n",
      "\n"
     ]
    }
   ],
   "source": [
    "%watermark --gpu"
   ]
  },
  {
   "cell_type": "code",
   "execution_count": 4,
   "id": "cccc87fa-bd4c-425e-9f3a-39e085a5b8b4",
   "metadata": {},
   "outputs": [],
   "source": [
    "from dask.distributed import Client\n",
    "from dask_cuda import LocalCUDACluster\n",
    "from dask import dataframe as dd\n",
    "import pandas as pd\n",
    "import xgboost as xgb"
   ]
  },
  {
   "cell_type": "code",
   "execution_count": 5,
   "id": "83cdcbf5-47ca-4486-bd13-b93f9a6a414d",
   "metadata": {},
   "outputs": [
    {
     "data": {
      "text/plain": [
       "'1.7.4'"
      ]
     },
     "execution_count": 5,
     "metadata": {},
     "output_type": "execute_result"
    }
   ],
   "source": [
    "xgb.__version__"
   ]
  },
  {
   "cell_type": "code",
   "execution_count": 6,
   "id": "54d9e66e-11ab-41c5-8154-f1b2d131473b",
   "metadata": {},
   "outputs": [
    {
     "name": "stdout",
     "output_type": "stream",
     "text": [
      "CPU times: user 12.8 ms, sys: 931 µs, total: 13.7 ms\n",
      "Wall time: 13 ms\n"
     ]
    }
   ],
   "source": [
    "%%time\n",
    "fname = '../input/HIGGS.csv'\n",
    "colnames = ['label'] + ['feature-%02d' % i for i in range(1, 29)]\n",
    "# By default dask dataframe uses pandas as data handling backend\n",
    "dask_df = dd.read_csv(fname, low_memory=False)"
   ]
  },
  {
   "cell_type": "code",
   "execution_count": 7,
   "id": "474ace3b-e817-4d96-b6be-612a36a4b6b4",
   "metadata": {},
   "outputs": [
    {
     "data": {
      "text/html": [
       "<div>\n",
       "<style scoped>\n",
       "    .dataframe tbody tr th:only-of-type {\n",
       "        vertical-align: middle;\n",
       "    }\n",
       "\n",
       "    .dataframe tbody tr th {\n",
       "        vertical-align: top;\n",
       "    }\n",
       "\n",
       "    .dataframe thead th {\n",
       "        text-align: right;\n",
       "    }\n",
       "</style>\n",
       "<table border=\"1\" class=\"dataframe\">\n",
       "  <thead>\n",
       "    <tr style=\"text-align: right;\">\n",
       "      <th></th>\n",
       "      <th>label</th>\n",
       "      <th>feature-01</th>\n",
       "      <th>feature-02</th>\n",
       "      <th>feature-03</th>\n",
       "      <th>feature-04</th>\n",
       "      <th>feature-05</th>\n",
       "      <th>feature-06</th>\n",
       "      <th>feature-07</th>\n",
       "      <th>feature-08</th>\n",
       "      <th>feature-09</th>\n",
       "      <th>...</th>\n",
       "      <th>feature-19</th>\n",
       "      <th>feature-20</th>\n",
       "      <th>feature-21</th>\n",
       "      <th>feature-22</th>\n",
       "      <th>feature-23</th>\n",
       "      <th>feature-24</th>\n",
       "      <th>feature-25</th>\n",
       "      <th>feature-26</th>\n",
       "      <th>feature-27</th>\n",
       "      <th>feature-28</th>\n",
       "    </tr>\n",
       "  </thead>\n",
       "  <tbody>\n",
       "    <tr>\n",
       "      <th>0</th>\n",
       "      <td>1.0</td>\n",
       "      <td>0.869293</td>\n",
       "      <td>-0.635082</td>\n",
       "      <td>0.225690</td>\n",
       "      <td>0.327470</td>\n",
       "      <td>-0.689993</td>\n",
       "      <td>0.754202</td>\n",
       "      <td>-0.248573</td>\n",
       "      <td>-1.092064</td>\n",
       "      <td>0.000000</td>\n",
       "      <td>...</td>\n",
       "      <td>-0.010455</td>\n",
       "      <td>-0.045767</td>\n",
       "      <td>3.101961</td>\n",
       "      <td>1.353760</td>\n",
       "      <td>0.979563</td>\n",
       "      <td>0.978076</td>\n",
       "      <td>0.920005</td>\n",
       "      <td>0.721657</td>\n",
       "      <td>0.988751</td>\n",
       "      <td>0.876678</td>\n",
       "    </tr>\n",
       "    <tr>\n",
       "      <th>1</th>\n",
       "      <td>1.0</td>\n",
       "      <td>0.907542</td>\n",
       "      <td>0.329147</td>\n",
       "      <td>0.359412</td>\n",
       "      <td>1.497970</td>\n",
       "      <td>-0.313010</td>\n",
       "      <td>1.095531</td>\n",
       "      <td>-0.557525</td>\n",
       "      <td>-1.588230</td>\n",
       "      <td>2.173076</td>\n",
       "      <td>...</td>\n",
       "      <td>-1.138930</td>\n",
       "      <td>-0.000819</td>\n",
       "      <td>0.000000</td>\n",
       "      <td>0.302220</td>\n",
       "      <td>0.833048</td>\n",
       "      <td>0.985700</td>\n",
       "      <td>0.978098</td>\n",
       "      <td>0.779732</td>\n",
       "      <td>0.992356</td>\n",
       "      <td>0.798343</td>\n",
       "    </tr>\n",
       "    <tr>\n",
       "      <th>2</th>\n",
       "      <td>1.0</td>\n",
       "      <td>0.798835</td>\n",
       "      <td>1.470639</td>\n",
       "      <td>-1.635975</td>\n",
       "      <td>0.453773</td>\n",
       "      <td>0.425629</td>\n",
       "      <td>1.104875</td>\n",
       "      <td>1.282322</td>\n",
       "      <td>1.381664</td>\n",
       "      <td>0.000000</td>\n",
       "      <td>...</td>\n",
       "      <td>1.128848</td>\n",
       "      <td>0.900461</td>\n",
       "      <td>0.000000</td>\n",
       "      <td>0.909753</td>\n",
       "      <td>1.108330</td>\n",
       "      <td>0.985692</td>\n",
       "      <td>0.951331</td>\n",
       "      <td>0.803252</td>\n",
       "      <td>0.865924</td>\n",
       "      <td>0.780118</td>\n",
       "    </tr>\n",
       "    <tr>\n",
       "      <th>3</th>\n",
       "      <td>0.0</td>\n",
       "      <td>1.344385</td>\n",
       "      <td>-0.876626</td>\n",
       "      <td>0.935913</td>\n",
       "      <td>1.992050</td>\n",
       "      <td>0.882454</td>\n",
       "      <td>1.786066</td>\n",
       "      <td>-1.646778</td>\n",
       "      <td>-0.942383</td>\n",
       "      <td>0.000000</td>\n",
       "      <td>...</td>\n",
       "      <td>-0.678379</td>\n",
       "      <td>-1.360356</td>\n",
       "      <td>0.000000</td>\n",
       "      <td>0.946652</td>\n",
       "      <td>1.028704</td>\n",
       "      <td>0.998656</td>\n",
       "      <td>0.728281</td>\n",
       "      <td>0.869200</td>\n",
       "      <td>1.026736</td>\n",
       "      <td>0.957904</td>\n",
       "    </tr>\n",
       "    <tr>\n",
       "      <th>4</th>\n",
       "      <td>1.0</td>\n",
       "      <td>1.105009</td>\n",
       "      <td>0.321356</td>\n",
       "      <td>1.522401</td>\n",
       "      <td>0.882808</td>\n",
       "      <td>-1.205349</td>\n",
       "      <td>0.681466</td>\n",
       "      <td>-1.070464</td>\n",
       "      <td>-0.921871</td>\n",
       "      <td>0.000000</td>\n",
       "      <td>...</td>\n",
       "      <td>-0.373566</td>\n",
       "      <td>0.113041</td>\n",
       "      <td>0.000000</td>\n",
       "      <td>0.755856</td>\n",
       "      <td>1.361057</td>\n",
       "      <td>0.986610</td>\n",
       "      <td>0.838085</td>\n",
       "      <td>1.133295</td>\n",
       "      <td>0.872245</td>\n",
       "      <td>0.808487</td>\n",
       "    </tr>\n",
       "  </tbody>\n",
       "</table>\n",
       "<p>5 rows × 29 columns</p>\n",
       "</div>"
      ],
      "text/plain": [
       "   label  feature-01  feature-02  feature-03  feature-04  feature-05  \\\n",
       "0    1.0    0.869293   -0.635082    0.225690    0.327470   -0.689993   \n",
       "1    1.0    0.907542    0.329147    0.359412    1.497970   -0.313010   \n",
       "2    1.0    0.798835    1.470639   -1.635975    0.453773    0.425629   \n",
       "3    0.0    1.344385   -0.876626    0.935913    1.992050    0.882454   \n",
       "4    1.0    1.105009    0.321356    1.522401    0.882808   -1.205349   \n",
       "\n",
       "   feature-06  feature-07  feature-08  feature-09  ...  feature-19  \\\n",
       "0    0.754202   -0.248573   -1.092064    0.000000  ...   -0.010455   \n",
       "1    1.095531   -0.557525   -1.588230    2.173076  ...   -1.138930   \n",
       "2    1.104875    1.282322    1.381664    0.000000  ...    1.128848   \n",
       "3    1.786066   -1.646778   -0.942383    0.000000  ...   -0.678379   \n",
       "4    0.681466   -1.070464   -0.921871    0.000000  ...   -0.373566   \n",
       "\n",
       "   feature-20  feature-21  feature-22  feature-23  feature-24  feature-25  \\\n",
       "0   -0.045767    3.101961    1.353760    0.979563    0.978076    0.920005   \n",
       "1   -0.000819    0.000000    0.302220    0.833048    0.985700    0.978098   \n",
       "2    0.900461    0.000000    0.909753    1.108330    0.985692    0.951331   \n",
       "3   -1.360356    0.000000    0.946652    1.028704    0.998656    0.728281   \n",
       "4    0.113041    0.000000    0.755856    1.361057    0.986610    0.838085   \n",
       "\n",
       "   feature-26  feature-27  feature-28  \n",
       "0    0.721657    0.988751    0.876678  \n",
       "1    0.779732    0.992356    0.798343  \n",
       "2    0.803252    0.865924    0.780118  \n",
       "3    0.869200    1.026736    0.957904  \n",
       "4    1.133295    0.872245    0.808487  \n",
       "\n",
       "[5 rows x 29 columns]"
      ]
     },
     "execution_count": 7,
     "metadata": {},
     "output_type": "execute_result"
    }
   ],
   "source": [
    "dask_df.head()"
   ]
  },
  {
   "cell_type": "code",
   "execution_count": 8,
   "id": "0420effc-84e6-4a49-9097-736d1f4bcd0c",
   "metadata": {},
   "outputs": [
    {
     "name": "stdout",
     "output_type": "stream",
     "text": [
      "CPU times: user 1min 5s, sys: 3.95 s, total: 1min 9s\n",
      "Wall time: 1min 9s\n"
     ]
    },
    {
     "data": {
      "text/html": [
       "<div>\n",
       "<style scoped>\n",
       "    .dataframe tbody tr th:only-of-type {\n",
       "        vertical-align: middle;\n",
       "    }\n",
       "\n",
       "    .dataframe tbody tr th {\n",
       "        vertical-align: top;\n",
       "    }\n",
       "\n",
       "    .dataframe thead th {\n",
       "        text-align: right;\n",
       "    }\n",
       "</style>\n",
       "<table border=\"1\" class=\"dataframe\">\n",
       "  <thead>\n",
       "    <tr style=\"text-align: right;\">\n",
       "      <th></th>\n",
       "      <th>label</th>\n",
       "      <th>feature-01</th>\n",
       "      <th>feature-02</th>\n",
       "      <th>feature-03</th>\n",
       "      <th>feature-04</th>\n",
       "      <th>feature-05</th>\n",
       "      <th>feature-06</th>\n",
       "      <th>feature-07</th>\n",
       "      <th>feature-08</th>\n",
       "      <th>feature-09</th>\n",
       "      <th>...</th>\n",
       "      <th>feature-19</th>\n",
       "      <th>feature-20</th>\n",
       "      <th>feature-21</th>\n",
       "      <th>feature-22</th>\n",
       "      <th>feature-23</th>\n",
       "      <th>feature-24</th>\n",
       "      <th>feature-25</th>\n",
       "      <th>feature-26</th>\n",
       "      <th>feature-27</th>\n",
       "      <th>feature-28</th>\n",
       "    </tr>\n",
       "  </thead>\n",
       "  <tbody>\n",
       "    <tr>\n",
       "      <th>0</th>\n",
       "      <td>1.0</td>\n",
       "      <td>0.869293</td>\n",
       "      <td>-0.635082</td>\n",
       "      <td>0.225690</td>\n",
       "      <td>0.327470</td>\n",
       "      <td>-0.689993</td>\n",
       "      <td>0.754202</td>\n",
       "      <td>-0.248573</td>\n",
       "      <td>-1.092064</td>\n",
       "      <td>0.000000</td>\n",
       "      <td>...</td>\n",
       "      <td>-0.010455</td>\n",
       "      <td>-0.045767</td>\n",
       "      <td>3.101961</td>\n",
       "      <td>1.353760</td>\n",
       "      <td>0.979563</td>\n",
       "      <td>0.978076</td>\n",
       "      <td>0.920005</td>\n",
       "      <td>0.721657</td>\n",
       "      <td>0.988751</td>\n",
       "      <td>0.876678</td>\n",
       "    </tr>\n",
       "    <tr>\n",
       "      <th>1</th>\n",
       "      <td>1.0</td>\n",
       "      <td>0.907542</td>\n",
       "      <td>0.329147</td>\n",
       "      <td>0.359412</td>\n",
       "      <td>1.497970</td>\n",
       "      <td>-0.313010</td>\n",
       "      <td>1.095531</td>\n",
       "      <td>-0.557525</td>\n",
       "      <td>-1.588230</td>\n",
       "      <td>2.173076</td>\n",
       "      <td>...</td>\n",
       "      <td>-1.138930</td>\n",
       "      <td>-0.000819</td>\n",
       "      <td>0.000000</td>\n",
       "      <td>0.302220</td>\n",
       "      <td>0.833048</td>\n",
       "      <td>0.985700</td>\n",
       "      <td>0.978098</td>\n",
       "      <td>0.779732</td>\n",
       "      <td>0.992356</td>\n",
       "      <td>0.798343</td>\n",
       "    </tr>\n",
       "    <tr>\n",
       "      <th>2</th>\n",
       "      <td>1.0</td>\n",
       "      <td>0.798835</td>\n",
       "      <td>1.470639</td>\n",
       "      <td>-1.635975</td>\n",
       "      <td>0.453773</td>\n",
       "      <td>0.425629</td>\n",
       "      <td>1.104875</td>\n",
       "      <td>1.282322</td>\n",
       "      <td>1.381664</td>\n",
       "      <td>0.000000</td>\n",
       "      <td>...</td>\n",
       "      <td>1.128848</td>\n",
       "      <td>0.900461</td>\n",
       "      <td>0.000000</td>\n",
       "      <td>0.909753</td>\n",
       "      <td>1.108330</td>\n",
       "      <td>0.985692</td>\n",
       "      <td>0.951331</td>\n",
       "      <td>0.803252</td>\n",
       "      <td>0.865924</td>\n",
       "      <td>0.780118</td>\n",
       "    </tr>\n",
       "    <tr>\n",
       "      <th>3</th>\n",
       "      <td>0.0</td>\n",
       "      <td>1.344385</td>\n",
       "      <td>-0.876626</td>\n",
       "      <td>0.935913</td>\n",
       "      <td>1.992050</td>\n",
       "      <td>0.882454</td>\n",
       "      <td>1.786066</td>\n",
       "      <td>-1.646778</td>\n",
       "      <td>-0.942383</td>\n",
       "      <td>0.000000</td>\n",
       "      <td>...</td>\n",
       "      <td>-0.678379</td>\n",
       "      <td>-1.360356</td>\n",
       "      <td>0.000000</td>\n",
       "      <td>0.946652</td>\n",
       "      <td>1.028704</td>\n",
       "      <td>0.998656</td>\n",
       "      <td>0.728281</td>\n",
       "      <td>0.869200</td>\n",
       "      <td>1.026736</td>\n",
       "      <td>0.957904</td>\n",
       "    </tr>\n",
       "    <tr>\n",
       "      <th>4</th>\n",
       "      <td>1.0</td>\n",
       "      <td>1.105009</td>\n",
       "      <td>0.321356</td>\n",
       "      <td>1.522401</td>\n",
       "      <td>0.882808</td>\n",
       "      <td>-1.205349</td>\n",
       "      <td>0.681466</td>\n",
       "      <td>-1.070464</td>\n",
       "      <td>-0.921871</td>\n",
       "      <td>0.000000</td>\n",
       "      <td>...</td>\n",
       "      <td>-0.373566</td>\n",
       "      <td>0.113041</td>\n",
       "      <td>0.000000</td>\n",
       "      <td>0.755856</td>\n",
       "      <td>1.361057</td>\n",
       "      <td>0.986610</td>\n",
       "      <td>0.838085</td>\n",
       "      <td>1.133295</td>\n",
       "      <td>0.872245</td>\n",
       "      <td>0.808487</td>\n",
       "    </tr>\n",
       "  </tbody>\n",
       "</table>\n",
       "<p>5 rows × 29 columns</p>\n",
       "</div>"
      ],
      "text/plain": [
       "   label  feature-01  feature-02  feature-03  feature-04  feature-05  \\\n",
       "0    1.0    0.869293   -0.635082    0.225690    0.327470   -0.689993   \n",
       "1    1.0    0.907542    0.329147    0.359412    1.497970   -0.313010   \n",
       "2    1.0    0.798835    1.470639   -1.635975    0.453773    0.425629   \n",
       "3    0.0    1.344385   -0.876626    0.935913    1.992050    0.882454   \n",
       "4    1.0    1.105009    0.321356    1.522401    0.882808   -1.205349   \n",
       "\n",
       "   feature-06  feature-07  feature-08  feature-09  ...  feature-19  \\\n",
       "0    0.754202   -0.248573   -1.092064    0.000000  ...   -0.010455   \n",
       "1    1.095531   -0.557525   -1.588230    2.173076  ...   -1.138930   \n",
       "2    1.104875    1.282322    1.381664    0.000000  ...    1.128848   \n",
       "3    1.786066   -1.646778   -0.942383    0.000000  ...   -0.678379   \n",
       "4    0.681466   -1.070464   -0.921871    0.000000  ...   -0.373566   \n",
       "\n",
       "   feature-20  feature-21  feature-22  feature-23  feature-24  feature-25  \\\n",
       "0   -0.045767    3.101961    1.353760    0.979563    0.978076    0.920005   \n",
       "1   -0.000819    0.000000    0.302220    0.833048    0.985700    0.978098   \n",
       "2    0.900461    0.000000    0.909753    1.108330    0.985692    0.951331   \n",
       "3   -1.360356    0.000000    0.946652    1.028704    0.998656    0.728281   \n",
       "4    0.113041    0.000000    0.755856    1.361057    0.986610    0.838085   \n",
       "\n",
       "   feature-26  feature-27  feature-28  \n",
       "0    0.721657    0.988751    0.876678  \n",
       "1    0.779732    0.992356    0.798343  \n",
       "2    0.803252    0.865924    0.780118  \n",
       "3    0.869200    1.026736    0.957904  \n",
       "4    1.133295    0.872245    0.808487  \n",
       "\n",
       "[5 rows x 29 columns]"
      ]
     },
     "execution_count": 8,
     "metadata": {},
     "output_type": "execute_result"
    }
   ],
   "source": [
    "%%time\n",
    "pd_df = pd.read_csv(fname, low_memory=False)\n",
    "pd_df.head()"
   ]
  },
  {
   "cell_type": "code",
   "execution_count": 9,
   "id": "ec3458b3-f7b5-445a-9da9-25ce8a02fd72",
   "metadata": {},
   "outputs": [],
   "source": [
    "y = dask_df['label']\n",
    "X = dask_df[dask_df.columns.difference(['label'])]"
   ]
  },
  {
   "cell_type": "code",
   "execution_count": 10,
   "id": "99da79f5-414f-4a11-a4ea-d36fcfe3b18f",
   "metadata": {},
   "outputs": [
    {
     "name": "stderr",
     "output_type": "stream",
     "text": [
      "2023-05-31 11:03:55,424 - distributed.preloading - INFO - Creating preload: dask_cuda.initialize\n",
      "2023-05-31 11:03:55,424 - distributed.preloading - INFO - Import preload module: dask_cuda.initialize\n",
      "2023-05-31 11:03:55,436 - distributed.preloading - INFO - Creating preload: dask_cuda.initialize\n",
      "2023-05-31 11:03:55,436 - distributed.preloading - INFO - Import preload module: dask_cuda.initialize\n"
     ]
    }
   ],
   "source": [
    "cluster = LocalCUDACluster(n_workers=2)"
   ]
  },
  {
   "cell_type": "code",
   "execution_count": 11,
   "id": "b5013fd5-fd8f-46a2-8539-8ebac10ba84a",
   "metadata": {},
   "outputs": [],
   "source": [
    "client = Client(cluster)"
   ]
  },
  {
   "cell_type": "code",
   "execution_count": 12,
   "id": "57d59275-9050-44e7-b2ee-baacbb1558ea",
   "metadata": {},
   "outputs": [],
   "source": [
    "dtrain = xgb.dask.DaskDMatrix(client, X, y)"
   ]
  },
  {
   "cell_type": "code",
   "execution_count": 13,
   "id": "ae7eb038-9ecf-4ba1-bec3-20578a172343",
   "metadata": {},
   "outputs": [
    {
     "name": "stderr",
     "output_type": "stream",
     "text": [
      "[11:05:15] task [xgboost.dask-0]:tcp://127.0.0.1:45599 got new rank 0\n",
      "[11:05:15] task [xgboost.dask-1]:tcp://127.0.0.1:38969 got new rank 1\n"
     ]
    },
    {
     "name": "stdout",
     "output_type": "stream",
     "text": [
      "CPU times: user 5.59 s, sys: 2.65 s, total: 8.24 s\n",
      "Wall time: 2min 51s\n"
     ]
    }
   ],
   "source": [
    "%%time\n",
    "output = xgb.dask.train(client,\n",
    "                            # Use GPU training algorithm\n",
    "                            {'verbosity':1, 'tree_method': 'gpu_hist', \n",
    "                             'objective':'binary:logistic'},\n",
    "                            dtrain,\n",
    "                            num_boost_round=10000)"
   ]
  },
  {
   "cell_type": "code",
   "execution_count": 14,
   "id": "a1aa88f0-e07b-4489-9d87-a97da62b8316",
   "metadata": {},
   "outputs": [
    {
     "name": "stdout",
     "output_type": "stream",
     "text": [
      "CPU times: user 1.14 s, sys: 386 ms, total: 1.52 s\n",
      "Wall time: 13.3 s\n"
     ]
    }
   ],
   "source": [
    "%%time\n",
    "booster = output['booster']  # booster is the trained model\n",
    "booster.set_param({'predictor': 'gpu_predictor'})\n",
    "\n",
    "predictions = xgb.dask.predict(client, booster, dtrain)"
   ]
  },
  {
   "cell_type": "code",
   "execution_count": 15,
   "id": "5abf8c0e-fe19-4790-8902-c370f15e4a4c",
   "metadata": {},
   "outputs": [],
   "source": [
    "prediction = xgb.dask.inplace_predict(client, output, X)"
   ]
  },
  {
   "cell_type": "code",
   "execution_count": 16,
   "id": "6dc52b8f-1a74-4de2-9704-5fcd52b13200",
   "metadata": {},
   "outputs": [
    {
     "data": {
      "text/plain": [
       "array([0.7507932 , 0.8067099 , 0.982157  , ..., 0.26366392, 0.2812209 ,\n",
       "       0.29476115], dtype=float32)"
      ]
     },
     "execution_count": 16,
     "metadata": {},
     "output_type": "execute_result"
    }
   ],
   "source": [
    "predictions.compute()"
   ]
  },
  {
   "cell_type": "code",
   "execution_count": null,
   "id": "53d3a099-aa16-4624-8844-2c9b72e381a9",
   "metadata": {},
   "outputs": [],
   "source": []
  }
 ],
 "metadata": {
  "kernelspec": {
   "display_name": "Python 3 (ipykernel)",
   "language": "python",
   "name": "python3"
  },
  "language_info": {
   "codemirror_mode": {
    "name": "ipython",
    "version": 3
   },
   "file_extension": ".py",
   "mimetype": "text/x-python",
   "name": "python",
   "nbconvert_exporter": "python",
   "pygments_lexer": "ipython3",
   "version": "3.8.10"
  }
 },
 "nbformat": 4,
 "nbformat_minor": 5
}
